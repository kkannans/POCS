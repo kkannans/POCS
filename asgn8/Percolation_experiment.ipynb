{
 "cells": [
  {
   "cell_type": "code",
   "execution_count": 124,
   "id": "448a91ba",
   "metadata": {},
   "outputs": [],
   "source": [
    "import numpy as np\n",
    "import random\n",
    "from collections import OrderedDict"
   ]
  },
  {
   "cell_type": "markdown",
   "id": "41bd988a",
   "metadata": {},
   "source": [
    "# analyse the L by L square lattice percolation model for varying L"
   ]
  },
  {
   "cell_type": "code",
   "execution_count": 80,
   "id": "d2aa2870",
   "metadata": {},
   "outputs": [
    {
     "name": "stdout",
     "output_type": "stream",
     "text": [
      "[[0, 1, 0], [1, 0, 1], [0, 1, 1]]\n",
      "3\n",
      "[[1, 1, 1], [0, 1, 0], [1, 0, 1]]\n",
      "4\n",
      "[[1, 0, 0, 1, 1, 1, 1, 0],\n",
      " [1, 0, 1, 0, 0, 0, 0, 1],\n",
      " [1, 0, 1, 0, 0, 1, 0, 1],\n",
      " [1, 0, 0, 0, 1, 0, 1, 0],\n",
      " [0, 0, 0, 0, 1, 1, 1, 0],\n",
      " [1, 0, 1, 1, 0, 0, 1, 0]]\n",
      "6\n"
     ]
    }
   ],
   "source": [
    "# https://codereview.stackexchange.com/questions/210641/size-of-the-largest-connected-component-in-a-grid-in-python\n",
    "from collections import deque\n",
    "def largest_connected_component(grid):\n",
    "    EMPTY = 0\n",
    "    FILLED = 1\n",
    "    VISITED = 2\n",
    "\n",
    "    def is_valid(x, y):\n",
    "        return (0 <= x < len(grid) and 0 <= y < len(grid[0]) and\n",
    "                grid[x][y] != VISITED)\n",
    "\n",
    "    def traverse_component(x, y):\n",
    "        grid[x][y] = VISITED\n",
    "        result = 1\n",
    "        for adjacent in ((x + 1, y),\n",
    "                         (x - 1, y),\n",
    "                         (x, y + 1),\n",
    "                         (x, y - 1)):\n",
    "            if (is_valid(*adjacent)):\n",
    "                if (grid[adjacent[0]][adjacent[1]] == EMPTY):\n",
    "                    q.append(adjacent)\n",
    "                    grid[adjacent[0]][adjacent[1]] = VISITED\n",
    "                else:\n",
    "                    result += traverse_component(*adjacent)\n",
    "\n",
    "        return result\n",
    "\n",
    "    max_filled_size = 0\n",
    "    q = deque()\n",
    "    if (grid[0][0] == EMPTY):\n",
    "        q.append((0, 0))\n",
    "        grid[0][0] = VISITED\n",
    "    else:\n",
    "        max_filled_size = max(max_filled_size, traverse_component(0, 0))\n",
    "\n",
    "    while q:\n",
    "        x, y = q.popleft()\n",
    "\n",
    "        for adjacent in ((x + 1, y),\n",
    "                         (x - 1, y),\n",
    "                         (x, y + 1),\n",
    "                         (x, y - 1)):\n",
    "            if (is_valid(*adjacent)):\n",
    "                if (grid[adjacent[0]][adjacent[1]] == EMPTY):\n",
    "                    q.append(adjacent)\n",
    "                    grid[adjacent[0]][adjacent[1]] = VISITED\n",
    "                else:  # FILLED\n",
    "                    max_filled_size = max(max_filled_size, traverse_component(*adjacent))\n",
    "\n",
    "    return max_filled_size\n",
    "\n",
    "# Examples\n",
    "a1 = [[0, 1, 0], [1, 0, 1], [0, 1, 1]]\n",
    "a2 = [[1, 1, 1], [0, 1, 0], [1, 0, 1]]\n",
    "a3 = [[1, 0, 0, 1, 1, 1, 1, 0],\n",
    "[1, 0, 1, 0, 0, 0, 0, 1],\n",
    "[1, 0, 1, 0, 0, 1, 0, 1],\n",
    "[1, 0, 0, 0, 1, 0, 1, 0],\n",
    "[0, 0, 0, 0, 1, 1, 1, 0],\n",
    "[1, 0, 1, 1, 0, 0, 1, 0],\n",
    "]\n",
    "pprint(a1)\n",
    "print(largest_connected_component(a1))\n",
    "pprint(a2)\n",
    "print(largest_connected_component(a2))\n",
    "pprint(a3)\n",
    "print(largest_connected_component(a3))"
   ]
  },
  {
   "cell_type": "code",
   "execution_count": 88,
   "id": "3f61e8bc",
   "metadata": {},
   "outputs": [],
   "source": [
    "def generate_grid(grid_size:int, prob:float):\n",
    "    lattice_rand = np.random.rand(grid_size,grid_size)\n",
    "    lattice = (lattice_rand < prob).astype(int)\n",
    "    return lattice"
   ]
  },
  {
   "cell_type": "code",
   "execution_count": 132,
   "id": "4f50b7c6",
   "metadata": {},
   "outputs": [
    {
     "name": "stdout",
     "output_type": "stream",
     "text": [
      "gridsize =  20\n",
      "gridsize =  50\n",
      "gridsize =  100\n"
     ]
    },
    {
     "ename": "RecursionError",
     "evalue": "maximum recursion depth exceeded in comparison",
     "output_type": "error",
     "traceback": [
      "\u001b[0;31m---------------------------------------------------------------------------\u001b[0m",
      "\u001b[0;31mRecursionError\u001b[0m                            Traceback (most recent call last)",
      "Input \u001b[0;32mIn [132]\u001b[0m, in \u001b[0;36m<cell line: 5>\u001b[0;34m()\u001b[0m\n\u001b[1;32m      6\u001b[0m \u001b[38;5;28mprint\u001b[39m(\u001b[38;5;124m\"\u001b[39m\u001b[38;5;124mgridsize = \u001b[39m\u001b[38;5;124m\"\u001b[39m, grid_size)\n\u001b[1;32m      7\u001b[0m \u001b[38;5;28;01mfor\u001b[39;00m p \u001b[38;5;129;01min\u001b[39;00m p_vals:\n\u001b[0;32m----> 8\u001b[0m     lcc_L[grid_size][p] \u001b[38;5;241m=\u001b[39m \u001b[43mlargest_connected_component\u001b[49m\u001b[43m(\u001b[49m\u001b[43mgenerate_grid\u001b[49m\u001b[43m(\u001b[49m\u001b[43mgrid_size\u001b[49m\u001b[43m,\u001b[49m\u001b[43m \u001b[49m\u001b[43mp\u001b[49m\u001b[43m)\u001b[49m\u001b[43m)\u001b[49m\n\u001b[1;32m      9\u001b[0m     lcc_L[grid_size] \u001b[38;5;241m=\u001b[39m {k:v \u001b[38;5;28;01mfor\u001b[39;00m k,v \u001b[38;5;129;01min\u001b[39;00m \u001b[38;5;28msorted\u001b[39m(lcc_L[grid_size]\u001b[38;5;241m.\u001b[39mitems(), key\u001b[38;5;241m=\u001b[39m\u001b[38;5;28;01mlambda\u001b[39;00m t: t[\u001b[38;5;241m0\u001b[39m])}\n",
      "Input \u001b[0;32mIn [80]\u001b[0m, in \u001b[0;36mlargest_connected_component\u001b[0;34m(grid)\u001b[0m\n\u001b[1;32m     46\u001b[0m                 grid[adjacent[\u001b[38;5;241m0\u001b[39m]][adjacent[\u001b[38;5;241m1\u001b[39m]] \u001b[38;5;241m=\u001b[39m VISITED\n\u001b[1;32m     47\u001b[0m             \u001b[38;5;28;01melse\u001b[39;00m:  \u001b[38;5;66;03m# FILLED\u001b[39;00m\n\u001b[0;32m---> 48\u001b[0m                 max_filled_size \u001b[38;5;241m=\u001b[39m \u001b[38;5;28mmax\u001b[39m(max_filled_size, \u001b[43mtraverse_component\u001b[49m\u001b[43m(\u001b[49m\u001b[38;5;241;43m*\u001b[39;49m\u001b[43madjacent\u001b[49m\u001b[43m)\u001b[49m)\n\u001b[1;32m     50\u001b[0m \u001b[38;5;28;01mreturn\u001b[39;00m max_filled_size\n",
      "Input \u001b[0;32mIn [80]\u001b[0m, in \u001b[0;36mlargest_connected_component.<locals>.traverse_component\u001b[0;34m(x, y)\u001b[0m\n\u001b[1;32m     22\u001b[0m             grid[adjacent[\u001b[38;5;241m0\u001b[39m]][adjacent[\u001b[38;5;241m1\u001b[39m]] \u001b[38;5;241m=\u001b[39m VISITED\n\u001b[1;32m     23\u001b[0m         \u001b[38;5;28;01melse\u001b[39;00m:\n\u001b[0;32m---> 24\u001b[0m             result \u001b[38;5;241m+\u001b[39m\u001b[38;5;241m=\u001b[39m \u001b[43mtraverse_component\u001b[49m\u001b[43m(\u001b[49m\u001b[38;5;241;43m*\u001b[39;49m\u001b[43madjacent\u001b[49m\u001b[43m)\u001b[49m\n\u001b[1;32m     26\u001b[0m \u001b[38;5;28;01mreturn\u001b[39;00m result\n",
      "Input \u001b[0;32mIn [80]\u001b[0m, in \u001b[0;36mlargest_connected_component.<locals>.traverse_component\u001b[0;34m(x, y)\u001b[0m\n\u001b[1;32m     22\u001b[0m             grid[adjacent[\u001b[38;5;241m0\u001b[39m]][adjacent[\u001b[38;5;241m1\u001b[39m]] \u001b[38;5;241m=\u001b[39m VISITED\n\u001b[1;32m     23\u001b[0m         \u001b[38;5;28;01melse\u001b[39;00m:\n\u001b[0;32m---> 24\u001b[0m             result \u001b[38;5;241m+\u001b[39m\u001b[38;5;241m=\u001b[39m \u001b[43mtraverse_component\u001b[49m\u001b[43m(\u001b[49m\u001b[38;5;241;43m*\u001b[39;49m\u001b[43madjacent\u001b[49m\u001b[43m)\u001b[49m\n\u001b[1;32m     26\u001b[0m \u001b[38;5;28;01mreturn\u001b[39;00m result\n",
      "    \u001b[0;31m[... skipping similar frames: largest_connected_component.<locals>.traverse_component at line 24 (2967 times)]\u001b[0m\n",
      "Input \u001b[0;32mIn [80]\u001b[0m, in \u001b[0;36mlargest_connected_component.<locals>.traverse_component\u001b[0;34m(x, y)\u001b[0m\n\u001b[1;32m     22\u001b[0m             grid[adjacent[\u001b[38;5;241m0\u001b[39m]][adjacent[\u001b[38;5;241m1\u001b[39m]] \u001b[38;5;241m=\u001b[39m VISITED\n\u001b[1;32m     23\u001b[0m         \u001b[38;5;28;01melse\u001b[39;00m:\n\u001b[0;32m---> 24\u001b[0m             result \u001b[38;5;241m+\u001b[39m\u001b[38;5;241m=\u001b[39m \u001b[43mtraverse_component\u001b[49m\u001b[43m(\u001b[49m\u001b[38;5;241;43m*\u001b[39;49m\u001b[43madjacent\u001b[49m\u001b[43m)\u001b[49m\n\u001b[1;32m     26\u001b[0m \u001b[38;5;28;01mreturn\u001b[39;00m result\n",
      "Input \u001b[0;32mIn [80]\u001b[0m, in \u001b[0;36mlargest_connected_component.<locals>.traverse_component\u001b[0;34m(x, y)\u001b[0m\n\u001b[1;32m     14\u001b[0m result \u001b[38;5;241m=\u001b[39m \u001b[38;5;241m1\u001b[39m\n\u001b[1;32m     15\u001b[0m \u001b[38;5;28;01mfor\u001b[39;00m adjacent \u001b[38;5;129;01min\u001b[39;00m ((x \u001b[38;5;241m+\u001b[39m \u001b[38;5;241m1\u001b[39m, y),\n\u001b[1;32m     16\u001b[0m                  (x \u001b[38;5;241m-\u001b[39m \u001b[38;5;241m1\u001b[39m, y),\n\u001b[1;32m     17\u001b[0m                  (x, y \u001b[38;5;241m+\u001b[39m \u001b[38;5;241m1\u001b[39m),\n\u001b[1;32m     18\u001b[0m                  (x, y \u001b[38;5;241m-\u001b[39m \u001b[38;5;241m1\u001b[39m)):\n\u001b[0;32m---> 19\u001b[0m     \u001b[38;5;28;01mif\u001b[39;00m (\u001b[43mis_valid\u001b[49m\u001b[43m(\u001b[49m\u001b[38;5;241;43m*\u001b[39;49m\u001b[43madjacent\u001b[49m\u001b[43m)\u001b[49m):\n\u001b[1;32m     20\u001b[0m         \u001b[38;5;28;01mif\u001b[39;00m (grid[adjacent[\u001b[38;5;241m0\u001b[39m]][adjacent[\u001b[38;5;241m1\u001b[39m]] \u001b[38;5;241m==\u001b[39m EMPTY):\n\u001b[1;32m     21\u001b[0m             q\u001b[38;5;241m.\u001b[39mappend(adjacent)\n",
      "Input \u001b[0;32mIn [80]\u001b[0m, in \u001b[0;36mlargest_connected_component.<locals>.is_valid\u001b[0;34m(x, y)\u001b[0m\n\u001b[1;32m      8\u001b[0m \u001b[38;5;28;01mdef\u001b[39;00m \u001b[38;5;21mis_valid\u001b[39m(x, y):\n\u001b[0;32m----> 9\u001b[0m     \u001b[38;5;28;01mreturn\u001b[39;00m (\u001b[38;5;241m0\u001b[39m \u001b[38;5;241m<\u001b[39m\u001b[38;5;241m=\u001b[39m x \u001b[38;5;241m<\u001b[39m \u001b[38;5;28mlen\u001b[39m(grid) \u001b[38;5;129;01mand\u001b[39;00m \u001b[38;5;241m0\u001b[39m \u001b[38;5;241m<\u001b[39m\u001b[38;5;241m=\u001b[39m y \u001b[38;5;241m<\u001b[39m \u001b[38;5;28mlen\u001b[39m(grid[\u001b[38;5;241m0\u001b[39m]) \u001b[38;5;129;01mand\u001b[39;00m\n\u001b[1;32m     10\u001b[0m             grid[x][y] \u001b[38;5;241m!=\u001b[39m VISITED)\n",
      "\u001b[0;31mRecursionError\u001b[0m: maximum recursion depth exceeded in comparison"
     ]
    }
   ],
   "source": [
    "L = [20, 50, 100, 200, 500, 1000]\n",
    "p_vals = [round(i*0.01,4) for i in range(0,100)]\n",
    "# for each L run 100 experiments corresponding to different p_vals\n",
    "lcc_L = {round(k,2): {v: 0} for k in L for v in p_vals}\n",
    "for grid_size in L:\n",
    "    print(\"gridsize = \", grid_size)\n",
    "    for p in p_vals:\n",
    "        lcc_L[grid_size][p] = largest_connected_component(generate_grid(grid_size, p))\n",
    "        lcc_L[grid_size] = {k:v for k,v in sorted(lcc_L[grid_size].items(), key=lambda t: t[0])}"
   ]
  },
  {
   "cell_type": "code",
   "execution_count": 131,
   "id": "07cc694e",
   "metadata": {},
   "outputs": [
    {
     "name": "stdout",
     "output_type": "stream",
     "text": [
      "{0.0: 0, 0.01: 1, 0.02: 1, 0.03: 2, 0.04: 1, 0.05: 2, 0.06: 2, 0.07: 2, 0.08: 2, 0.09: 2, 0.1: 2, 0.11: 1, 0.12: 3, 0.13: 4, 0.14: 4, 0.15: 4, 0.16: 6, 0.17: 4, 0.18: 9, 0.19: 5, 0.2: 4, 0.21: 9, 0.22: 7, 0.23: 6, 0.24: 4, 0.25: 11, 0.26: 8, 0.27: 8, 0.28: 15, 0.29: 10, 0.3: 12, 0.31: 22, 0.32: 15, 0.33: 9, 0.34: 22, 0.35: 15, 0.36: 19, 0.37: 13, 0.38: 17, 0.39: 15, 0.4: 24, 0.41: 21, 0.42: 40, 0.43: 50, 0.44: 43, 0.45: 26, 0.46: 24, 0.47: 39, 0.48: 50, 0.49: 59, 0.5: 78, 0.51: 98, 0.52: 65, 0.53: 82, 0.54: 67, 0.55: 54, 0.56: 77, 0.57: 84, 0.58: 65, 0.59: 125, 0.6: 51, 0.61: 158, 0.62: 103, 0.63: 213, 0.64: 252, 0.65: 251, 0.66: 243, 0.67: 229, 0.68: 152, 0.69: 245, 0.7: 240, 0.71: 283, 0.72: 306, 0.73: 288, 0.74: 282, 0.75: 301, 0.76: 289, 0.77: 314, 0.78: 293, 0.79: 331, 0.8: 322, 0.81: 328, 0.82: 310, 0.83: 320, 0.84: 336, 0.85: 358, 0.86: 343, 0.87: 343, 0.88: 353, 0.89: 357, 0.9: 346, 0.91: 367, 0.92: 377, 0.93: 366, 0.94: 373, 0.95: 386, 0.96: 383, 0.97: 392, 0.98: 394, 0.99: 397}\n"
     ]
    }
   ],
   "source": []
  },
  {
   "cell_type": "code",
   "execution_count": null,
   "id": "bc851b27",
   "metadata": {},
   "outputs": [],
   "source": []
  }
 ],
 "metadata": {
  "kernelspec": {
   "display_name": "Python 3.10.6 64-bit",
   "language": "python",
   "name": "python3"
  },
  "language_info": {
   "codemirror_mode": {
    "name": "ipython",
    "version": 3
   },
   "file_extension": ".py",
   "mimetype": "text/x-python",
   "name": "python",
   "nbconvert_exporter": "python",
   "pygments_lexer": "ipython3",
   "version": "3.10.6"
  },
  "vscode": {
   "interpreter": {
    "hash": "b0fa6594d8f4cbf19f97940f81e996739fb7646882a419484c72d19e05852a7e"
   }
  }
 },
 "nbformat": 4,
 "nbformat_minor": 5
}

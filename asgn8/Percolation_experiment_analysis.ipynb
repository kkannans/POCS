{
 "cells": [
  {
   "cell_type": "code",
   "execution_count": 6,
   "id": "448a91ba",
   "metadata": {},
   "outputs": [],
   "source": [
    "import numpy as np\n",
    "import matplotlib.pyplot as plt\n",
    "import pickle\n",
    "import glob"
   ]
  },
  {
   "cell_type": "markdown",
   "id": "41bd988a",
   "metadata": {},
   "source": [
    "Determine the fractional size of the largest connected forest for each of\n",
    "the Ntests, and find the average of these, Savg"
   ]
  },
  {
   "cell_type": "code",
   "execution_count": 7,
   "id": "07cc694e",
   "metadata": {},
   "outputs": [],
   "source": [
    "L = [10, 50, 100, 200, 500, 1000]"
   ]
  },
  {
   "cell_type": "code",
   "execution_count": 9,
   "id": "bc851b27",
   "metadata": {},
   "outputs": [],
   "source": [
    "# open dict L = 50\n",
    "file_names = glob.glob(\"percolation*.pickle\")\n",
    "exp_file = open(file_names[0], 'rb')\n",
    "exp_L10 = pickle.load(exp_file)\n",
    "exp_file.close()"
   ]
  },
  {
   "cell_type": "code",
   "execution_count": 11,
   "id": "b83b42fc",
   "metadata": {},
   "outputs": [],
   "source": [
    "def find_Savg(exp_dict:dict):\n",
    "    S_avg = {}\n",
    "    for key in exp_dict.keys():\n",
    "        S_avg[key] = np.mean(exp_dict[key])\n",
    "    return S_avg"
   ]
  },
  {
   "cell_type": "code",
   "execution_count": null,
   "id": "64559304",
   "metadata": {},
   "outputs": [],
   "source": [
    "S_avg_10 = find_Savg(exp_L10)\n"
   ]
  },
  {
   "cell_type": "code",
   "execution_count": null,
   "id": "2386386f",
   "metadata": {},
   "outputs": [],
   "source": [
    "# On a single figure, for each L, plot the average Savg as a function of p."
   ]
  },
  {
   "cell_type": "code",
   "execution_count": 17,
   "id": "d5daf3ee",
   "metadata": {},
   "outputs": [],
   "source": [
    "def plot_S_avg_function_of_p(S_avg_p:dict, L:int, save = False):\n",
    "    fig, ax = plt.subplots()\n",
    "    x_data = list(S_avg_p.keys())\n",
    "    y_data = list(S_avg_p.values())\n",
    "    ax.plot(x_data, y_data, 'r.', label = \"L = \"+str(L))\n",
    "    ax.legend()\n",
    "    title_str = \"S_avg vs p for L = \"+str(L)\n",
    "    ax.set_xlabel(\"p\")\n",
    "    ax.set_ylabel(\"S_avg\")\n",
    "    ax.set_title(title_str)\n",
    "    if save:\n",
    "        plt.savefig(\"S_avg_vs_p_for_N_\"+str(L)+\".png\")\n",
    "    plt.show()"
   ]
  },
  {
   "cell_type": "code",
   "execution_count": 18,
   "id": "e9f6074f",
   "metadata": {},
   "outputs": [
    {
     "data": {
      "image/png": "[encoded data removed]",
      "text/plain": [
       "<Figure size 432x288 with 1 Axes>"
      ]
     },
     "metadata": {
      "needs_background": "light"
     },
     "output_type": "display_data"
    }
   ],
   "source": [
    "plot_S_avg_function_of_p(S_avg_10, 10, True)"
   ]
  },
  {
   "cell_type": "markdown",
   "id": "fd7b144d",
   "metadata": {},
   "source": [
    "# P5: \n",
    "a) Using your model from the previous question and your estimate of pc, plot\n",
    "the distribution of forest sizes (meaning cluster sizes) for p ≃ pc for the\n",
    "largest L your code and psychological makeup can withstand. (You can\n",
    "average the distribution over separate simulations.)\n",
    "Comment on what kind of distribution you find.\n",
    "(b) Repeat the above for p = pc/2 and p = pc + (1 − pc)/2, i.e., well below and\n",
    "well above pc.\n",
    "Produce plots for both cases, and again, comment on what you find"
   ]
  },
  {
   "cell_type": "code",
   "execution_count": null,
   "id": "ce2544e8",
   "metadata": {},
   "outputs": [],
   "source": [
    "L = [10, 20, 50, 100, 200, 500, 1000]\n",
    "p_c = 0.6\n",
    "num_experiments = 100\n",
    "lcc_pc = {k: [] for k in L}\n",
    "for grid_size in L:\n",
    "    print(\"Running 100 experiments for gridsize = \", grid_size)\n",
    "    for _ in range(num_experiments):\n",
    "        lcc = maxAreaOfIsland(generate_grid(grid_size, p))\n",
    "        lcc_pc[grid_size].append(lcc)\n",
    "    lcc_pc = {k:v for k,v in sorted(lcc_pc.items(), key=lambda t: t[0])}\n",
    "    exp_file = open('percolation_experiment_pc_size_distribution' + str(grid_size)+'.pickle', 'wb')\n",
    "    pickle.dump(lcc_pc, exp_file)\n",
    "    exp_file.close()"
   ]
  }
 ],
 "metadata": {
  "kernelspec": {
   "display_name": "Python 3 (ipykernel)",
   "language": "python",
   "name": "python3"
  },
  "language_info": {
   "codemirror_mode": {
    "name": "ipython",
    "version": 3
   },
   "file_extension": ".py",
   "mimetype": "text/x-python",
   "name": "python",
   "nbconvert_exporter": "python",
   "pygments_lexer": "ipython3",
   "version": "3.9.12"
  },
  "vscode": {
   "interpreter": {
    "hash": "b0fa6594d8f4cbf19f97940f81e996739fb7646882a419484c72d19e05852a7e"
   }
  }
 },
 "nbformat": 4,
 "nbformat_minor": 5
}

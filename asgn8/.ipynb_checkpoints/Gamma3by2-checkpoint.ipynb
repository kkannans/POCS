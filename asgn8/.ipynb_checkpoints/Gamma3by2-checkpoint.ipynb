{
 "cells": [
  {
   "cell_type": "markdown",
   "id": "e289eeff",
   "metadata": {},
   "source": [
    "# P1\n",
    "For γ = 3/2, generate n = 1000 sets each of N = 10, 102, 103, 104, 105, and 106\n",
    "samples, using Pk = ck−(3/2) with k = 1, 2, 3, . . "
   ]
  },
  {
   "cell_type": "code",
   "execution_count": 1,
   "id": "bcc0de80",
   "metadata": {},
   "outputs": [],
   "source": [
    "import numpy as np\n",
    "import random\n",
    "import pickle\n",
    "import matplotlib.pyplot as plt"
   ]
  },
  {
   "cell_type": "code",
   "execution_count": null,
   "id": "a9845ca1",
   "metadata": {},
   "outputs": [],
   "source": [
    "# open dict\n",
    "exp_file = open('experiment', 'rb')\n",
    "exp = pickle.load(exp_file)\n",
    "exp_file.close()"
   ]
  },
  {
   "cell_type": "markdown",
   "id": "e3278e6a",
   "metadata": {},
   "source": [
    "# Plot experiment vs kmax for each N"
   ]
  },
  {
   "cell_type": "code",
   "execution_count": null,
   "id": "ea4f2804",
   "metadata": {},
   "outputs": [],
   "source": [
    "for N, kmax_list in exp.items():\n",
    "    assert len(kmax_list) == n\n",
    "    fig, ax = plt.subplots()\n",
    "    experiments = list(range(1,1001))\n",
    "    assert len(experiments) == n\n",
    "    ax.plot(experiments, kmax_list, 'r.', label = \"N = \"+str(N))\n",
    "    ax.legend()\n",
    "    title_str = \"experiment vs kmax for N = \"+str(N)\n",
    "    ax.set_xlabel(\"experiment\")\n",
    "    ax.set_ylabel(\"kmax\")\n",
    "    ax.set_title(title_str)\n",
    "    plt.savefig(\"kmax_N_10_^\"+str(int(np.log10(N)))+\".png\")\n",
    "    plt.show()"
   ]
  },
  {
   "cell_type": "markdown",
   "id": "7669c19c",
   "metadata": {},
   "source": [
    "# Log Plot N vs average(k_max) for each N"
   ]
  },
  {
   "cell_type": "code",
   "execution_count": null,
   "id": "3d7962ec",
   "metadata": {},
   "outputs": [],
   "source": [
    "avg_kmax_N_dict = {N: np.mean(val) for N,val in exp.items()}\n",
    "N_vals = list(avg_kmax_N_dict.keys())\n",
    "avg_kmaxes = list(avg_kmax_N_dict.values())\n",
    "fig, ax = plt.subplots()\n",
    "ax.plot(np.log10(N_vals), np.log10(avg_kmaxes), 'r.', label = \"avg kmax vs N\")\n",
    "# plot fitted line\n",
    "# find line of best fit\n",
    "a, b = np.polyfit(np.log10(N_vals),np.log10(avg_kmaxes), 1)\n",
    "ax.plot(np.log10(N_vals), a*np.array(np.log10(N_vals))+b, color= 'b', linewidth=2.0, label = \"line {}x+{}\".format(round(a,2), round(b,2)))\n",
    "ax.legend()\n",
    "ax.set_xlabel(\"log10 N\")\n",
    "ax.set_ylabel(\"log10 Avg kmax\")\n",
    "ax.set_title(\"loglog avg kmax for each N\")\n",
    "plt.savefig(\"avg_kmax_vs_N_log_scale.png\")\n",
    "plt.show()"
   ]
  },
  {
   "cell_type": "code",
   "execution_count": null,
   "id": "6139b6e8",
   "metadata": {},
   "outputs": [],
   "source": [
    "fit_params, res, _,_,_ = np.polyfit(np.log10(N_vals),np.log10(avg_kmaxes), 1, full=True)\n",
    "print(fit_params)\n",
    "print(res)"
   ]
  },
  {
   "cell_type": "code",
   "execution_count": null,
   "id": "288cce3e",
   "metadata": {},
   "outputs": [],
   "source": [
    "def get_exponent(gamma):\n",
    "    return 1/(gamma-1)\n",
    "\n",
    "print(get_exponent(5/2))"
   ]
  }
 ],
 "metadata": {
  "kernelspec": {
   "display_name": "Python 3 (ipykernel)",
   "language": "python",
   "name": "python3"
  },
  "language_info": {
   "codemirror_mode": {
    "name": "ipython",
    "version": 3
   },
   "file_extension": ".py",
   "mimetype": "text/x-python",
   "name": "python",
   "nbconvert_exporter": "python",
   "pygments_lexer": "ipython3",
   "version": "3.9.12"
  }
 },
 "nbformat": 4,
 "nbformat_minor": 5
}

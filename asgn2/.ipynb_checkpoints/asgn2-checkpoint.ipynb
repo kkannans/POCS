{
 "cells": [
  {
   "cell_type": "code",
   "execution_count": 1,
   "id": "225f15b8",
   "metadata": {},
   "outputs": [],
   "source": [
    "import numpy as np\n",
    "import requests as r\n",
    "from bs4 import BeautifulSoup"
   ]
  },
  {
   "cell_type": "code",
   "execution_count": 16,
   "id": "2e084098",
   "metadata": {},
   "outputs": [],
   "source": [
    "def get_table_data(data, event_map:dict):\n",
    "    assert data.shape[1] == 2\n",
    "    filtered_data = []\n",
    "    for i in range(data.shape[0]):\n",
    "        num_people = event_map[data[i][0]]\n",
    "        m,s = data[i][1].split(\":\")\n",
    "        secs = round(int(m)*60 + float(s), 2) \n",
    "        filtered_data.append([num_people, secs])\n",
    "    return filtered_data"
   ]
  },
  {
   "cell_type": "code",
   "execution_count": 19,
   "id": "61226b7c",
   "metadata": {},
   "outputs": [],
   "source": [
    "def get_data(url = \"https://en.wikipedia.org/wiki/List_of_world_best_times_in_rowing#On_water_records\"):\n",
    "    wiki_page_request = r.get(url)\n",
    "    wiki_page_text = wiki_page_request.text\n",
    "    soup = BeautifulSoup(wiki_page_text, 'html.parser')\n",
    "    tables = soup.find_all('table')\n",
    "    # get men and women tables\n",
    "    event_map_men = {\n",
    "    'M1x Single sculls': 1,\n",
    "    'LM1x Lightweight single sculls':1,\n",
    "    'M2- Coxless pairs':2,\n",
    "    'LM2- Lightweight coxless pairs':2,\n",
    "    'LM2x Lightweight double sculls':2,\n",
    "    'M2+ Coxed pairs':2,\n",
    "    'M2x Double sculls':2,\n",
    "    'M4- Coxless four':4,\n",
    "    'M4+ Coxed four': 4,\n",
    "    'M4x Quad sculls':4,\n",
    "    'LM4- Lightweight coxless four':4,\n",
    "    'LM4x Lightweight quad sculls':4,\n",
    "    'M8+ Eight':8,\n",
    "    'LM8+ Lightweight eight':8\n",
    "    }\n",
    "    event_map_women = {\n",
    "    'W1x Single sculls':1,\n",
    "    'W2- Coxless pairs':2,\n",
    "    'W2x Double sculls':2,\n",
    "    'W4- Coxless four':4,\n",
    "    'W4x Quad sculls':4,\n",
    "    'W8+ Eight':8,\n",
    "    'LW1x Lightweight single sculls':1,\n",
    "    'LW2- Lightweight coxless pairs':2,\n",
    "    'LW2x Lightweight double sculls':2,\n",
    "    'LW4x Lightweight quadruple sculls':4\n",
    "    }\n",
    "    events = [\"men\", \"women\"]\n",
    "    event_maps = [event_map_men, event_map_women]\n",
    "    data_table = {}\n",
    "    for i in range(2):\n",
    "        required_table = tables[i]\n",
    "        headers = [header.text.strip() for header in required_table.find_all('th')]\n",
    "        rows = []\n",
    "        # Find all `tr` tags\n",
    "        data_rows = required_table.find_all('tr')\n",
    "        for row in data_rows:\n",
    "            value = row.find_all('td')\n",
    "            beautified_value = [ele.text.strip() for ele in value]\n",
    "            # Remove data arrays that are empty\n",
    "            if len(beautified_value) == 0:\n",
    "                continue\n",
    "            rows.append(beautified_value)\n",
    "        data = np.array(rows)\n",
    "        data = data[:, :2]\n",
    "        data_table[events[i]] = get_table_data(data, event_maps[i])\n",
    "    return data_table"
   ]
  },
  {
   "cell_type": "code",
   "execution_count": 20,
   "id": "0257d7a8",
   "metadata": {},
   "outputs": [
    {
     "name": "stdout",
     "output_type": "stream",
     "text": [
      "{'men': [[1, 390.74], [2, 368.5], [2, 393.26], [2, 359.72], [4, 337.86], [4, 358.96], [4, 332.03], [8, 318.68], [1, 401.03], [2, 382.91], [2, 365.33], [4, 343.16], [4, 342.75], [8, 330.24]], 'women': [[1, 427.71], [2, 407.41], [2, 397.31], [4, 374.36], [4, 365.13], [8, 352.99], [1, 443.36], [2, 438.32], [2, 401.36], [4, 375.95]]}\n"
     ]
    }
   ],
   "source": [
    "data_table = get_data()\n",
    "print(data_table)"
   ]
  },
  {
   "cell_type": "code",
   "execution_count": null,
   "id": "12075996",
   "metadata": {},
   "outputs": [],
   "source": []
  }
 ],
 "metadata": {
  "kernelspec": {
   "display_name": "Python 3 (ipykernel)",
   "language": "python",
   "name": "python3"
  },
  "language_info": {
   "codemirror_mode": {
    "name": "ipython",
    "version": 3
   },
   "file_extension": ".py",
   "mimetype": "text/x-python",
   "name": "python",
   "nbconvert_exporter": "python",
   "pygments_lexer": "ipython3",
   "version": "3.9.12"
  }
 },
 "nbformat": 4,
 "nbformat_minor": 5
}

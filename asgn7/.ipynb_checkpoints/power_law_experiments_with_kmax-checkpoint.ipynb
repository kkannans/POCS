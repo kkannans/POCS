{
 "cells": [
  {
   "cell_type": "markdown",
   "id": "080f2d5c",
   "metadata": {},
   "source": [
    "For γ = 5/2, generate n = 1000 sets each of N = 10, 102, 103, 104, 105, and 106\n",
    "samples, using Pk = ck−5/2 with k = 1, 2, 3, . . "
   ]
  },
  {
   "cell_type": "code",
   "execution_count": 28,
   "id": "8e896291",
   "metadata": {},
   "outputs": [],
   "source": [
    "import numpy as np\n",
    "import random\n",
    "import pickle"
   ]
  },
  {
   "cell_type": "code",
   "execution_count": 21,
   "id": "2ce87f20",
   "metadata": {},
   "outputs": [],
   "source": [
    "def get_k_max(N:int, gamma:float):\n",
    "    \"\"\"\n",
    "    z = [1 − F (z)]^(−1/(gamma - 1))\n",
    "    return max\n",
    "    \"\"\"\n",
    "    assert N > 0\n",
    "    assert gamma > 1\n",
    "    exponent = -1/(gamma-1)\n",
    "    samples = [(1 - np.random.uniform())**exponent for _ in range(N)]\n",
    "    return np.max(samples)"
   ]
  },
  {
   "cell_type": "code",
   "execution_count": 22,
   "id": "9b01d13f",
   "metadata": {},
   "outputs": [],
   "source": [
    "Ns = [10**i for i in range(1,7)]\n",
    "n = 1000\n",
    "gamma = 5/2"
   ]
  },
  {
   "cell_type": "code",
   "execution_count": 26,
   "id": "51063c23",
   "metadata": {},
   "outputs": [],
   "source": [
    "k_maxes = {}\n",
    "for N in [10]:\n",
    "    k_maxes[N] = [get_k_max(N, gamma) for _ in range(1000)]"
   ]
  },
  {
   "cell_type": "code",
   "execution_count": 30,
   "id": "992155af",
   "metadata": {},
   "outputs": [],
   "source": [
    "# write dict\n",
    "exp_file = open('experiment', 'wb')\n",
    "pickle.dump(k_maxes, exp_file)\n",
    "exp_file.close()"
   ]
  },
  {
   "cell_type": "code",
   "execution_count": 35,
   "id": "3f80bd57",
   "metadata": {},
   "outputs": [
    {
     "name": "stdout",
     "output_type": "stream",
     "text": [
      "1000\n"
     ]
    }
   ],
   "source": [
    "# open dict\n",
    "exp_file = open('experiment', 'rb')\n",
    "exp = pickle.load(exp_file)\n",
    "exp_file.close()"
   ]
  },
  {
   "cell_type": "markdown",
   "id": "5c64c0c3",
   "metadata": {},
   "source": [
    "# Plot experiment vs k_max for each N"
   ]
  },
  {
   "cell_type": "code",
   "execution_count": null,
   "id": "2317020e",
   "metadata": {},
   "outputs": [],
   "source": [
    "# N = 10\n",
    "\n",
    "\n",
    "\n",
    "# N = 100\n",
    "\n",
    "\n",
    "# N = "
   ]
  },
  {
   "cell_type": "markdown",
   "id": "55246ef9",
   "metadata": {},
   "source": [
    "# Plot N vs average(k_max) for each N"
   ]
  },
  {
   "cell_type": "code",
   "execution_count": null,
   "id": "82914fea",
   "metadata": {},
   "outputs": [],
   "source": []
  }
 ],
 "metadata": {
  "kernelspec": {
   "display_name": "Python 3 (ipykernel)",
   "language": "python",
   "name": "python3"
  },
  "language_info": {
   "codemirror_mode": {
    "name": "ipython",
    "version": 3
   },
   "file_extension": ".py",
   "mimetype": "text/x-python",
   "name": "python",
   "nbconvert_exporter": "python",
   "pygments_lexer": "ipython3",
   "version": "3.9.12"
  }
 },
 "nbformat": 4,
 "nbformat_minor": 5
}
